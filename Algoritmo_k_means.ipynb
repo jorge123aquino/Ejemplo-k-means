{
  "nbformat": 4,
  "nbformat_minor": 0,
  "metadata": {
    "colab": {
      "provenance": [],
      "authorship_tag": "ABX9TyNAyoFBhIczYGnIBixqjldn",
      "include_colab_link": true
    },
    "kernelspec": {
      "name": "python3",
      "display_name": "Python 3"
    },
    "language_info": {
      "name": "python"
    }
  },
  "cells": [
    {
      "cell_type": "markdown",
      "metadata": {
        "id": "view-in-github",
        "colab_type": "text"
      },
      "source": [
        "<a href=\"https://colab.research.google.com/github/jorge123aquino/Ejemplo-k-means/blob/main/Algoritmo_k_means.ipynb\" target=\"_parent\"><img src=\"https://colab.research.google.com/assets/colab-badge.svg\" alt=\"Open In Colab\"/></a>"
      ]
    },
    {
      "cell_type": "markdown",
      "source": [
        "# Algoritmo K means"
      ],
      "metadata": {
        "id": "-ekpg78AhYeE"
      }
    },
    {
      "cell_type": "code",
      "source": [
        "#Importar las bibliotecas\n",
        "import matplotlib.pyplot as plt\n",
        "from matplotlib.animation import FuncAnimation\n",
        "import numpy as np\n",
        "import time"
      ],
      "metadata": {
        "id": "K76Nz76Mh5GT"
      },
      "execution_count": 27,
      "outputs": []
    },
    {
      "cell_type": "code",
      "source": [
        "# Generamos los datos aleatorios de juguetes\n",
        "np.random.seed(123)\n",
        "juguetes = np.random.randn(50, 2) * 1.5 + [0, 5]\n"
      ],
      "metadata": {
        "id": "AHevSTbPh_Ys"
      },
      "execution_count": 16,
      "outputs": []
    },
    {
      "cell_type": "code",
      "source": [
        "# Graficamos los juguetes\n",
        "fig, ax = plt.subplots()\n",
        "ax.scatter(juguetes[:,0], juguetes[:,1])\n",
        "ax.set_title(\"Tipos de juguetes\")\n",
        "ax.set_xlabel(\"Calidad\")\n",
        "ax.set_ylabel(\"Diversión\")\n",
        "plt.show()"
      ],
      "metadata": {
        "colab": {
          "base_uri": "https://localhost:8080/",
          "height": 295
        },
        "id": "YBy1r9zpiEJd",
        "outputId": "ccb00d41-e2ff-4ce5-9242-764743943357"
      },
      "execution_count": 23,
      "outputs": [
        {
          "output_type": "display_data",
          "data": {
            "text/plain": [
              "<Figure size 432x288 with 1 Axes>"
            ],
            "image/png": "[encoded data removed]"
          },
          "metadata": {
            "needs_background": "light"
          }
        }
      ]
    },
    {
      "cell_type": "code",
      "source": [
        "# Inicialización: Seleccionamos dos tipos de juguetes como centroides iniciales\n",
        "k = 2\n",
        "centroides = np.array([[1, 7], [-2, 2]])"
      ],
      "metadata": {
        "id": "R89Iio7xiHv0"
      },
      "execution_count": 28,
      "outputs": []
    },
    {
      "cell_type": "code",
      "source": [
        "# Graficamos los juguetes\n",
        "fig, ax = plt.subplots()\n",
        "ax.scatter(juguetes[:,0], juguetes[:,1])\n",
        "ax.scatter(centroides[:,0], centroides[:,1], color='r', marker='*', s=100 )\n",
        "ax.set_title(\"Tipos de juguetes\")\n",
        "ax.set_xlabel(\"Calidad\")\n",
        "ax.set_ylabel(\"Diversión\")\n",
        "plt.show()"
      ],
      "metadata": {
        "colab": {
          "base_uri": "https://localhost:8080/",
          "height": 295
        },
        "id": "4IPvX4UVjIjs",
        "outputId": "fba46d70-4e69-462d-8d41-037d7e0e8f66"
      },
      "execution_count": 31,
      "outputs": [
        {
          "output_type": "display_data",
          "data": {
            "text/plain": [
              "<Figure size 432x288 with 1 Axes>"
            ],
            "image/png": "[encoded data removed]"
          },
          "metadata": {
            "needs_background": "light"
          }
        }
      ]
    },
    {
      "cell_type": "code",
      "source": [
        "# Clasificación: Cada juguete se asigna al tipo de juguete más cercano\n",
        "def asignar_tipos(juguetes, centroides):\n",
        "    distancias = np.sqrt(((juguetes - centroides[:, np.newaxis])**2).sum(axis=2))\n",
        "    return np.argmin(distancias, axis=0)"
      ],
      "metadata": {
        "id": "izYsBXsZilIT"
      },
      "execution_count": 32,
      "outputs": []
    },
    {
      "cell_type": "code",
      "source": [
        "# Cálculo de centroides: Actualizamos los centroides como la media de todos los juguetes asignados a ellos\n",
        "def actualizar_centroides(juguetes, tipos, k):\n",
        "    centroides = np.zeros((k, 2))\n",
        "    for i in range(k):\n",
        "        centroides[i,:] = np.mean(juguetes[tipos==i], axis=0)\n",
        "    return centroides"
      ],
      "metadata": {
        "id": "boD_sfAwin8b"
      },
      "execution_count": 33,
      "outputs": []
    },
    {
      "cell_type": "code",
      "source": [
        "# Convergencia y animación \n",
        "def k_means_animation(juguetes, k=2, num_iteraciones=6):\n",
        "    centroides = np.array([[1, 7], [-2, 2]])\n",
        "\n",
        "    fig, ax = plt.subplots()\n",
        "    ax.scatter(juguetes[:,0], juguetes[:,1])\n",
        "    centroides_plot = ax.scatter(centroides[:,0], centroides[:,1], color='r', marker='*', s=100)\n",
        "    ax.set_title(\"Grupos de juguetes\")\n",
        "    ax.set_xlabel(\"Calidad\")\n",
        "    ax.set_ylabel(\"Diversión\")\n",
        "\n",
        "    def update(i):\n",
        "        global centroides\n",
        "        tipos = asignar_tipos(juguetes, centroides)\n",
        "        centroides_nuevos = actualizar_centroides(juguetes, tipos, k)\n",
        "        ax.clear()\n",
        "        ax.scatter(juguetes[:,0], juguetes[:,1], c=tipos)\n",
        "        centroides_plot = ax.scatter(centroides[:,0], centroides[:,1], color='r', marker='*', s=100 + (i*10))\n",
        "        ax.set_title(\"Grupos de juguetes - Iteración {}\".format(i+1))\n",
        "        ax.set_xlabel(\"Calidad\")\n",
        "        ax.set_ylabel(\"Diversión\")\n",
        "        print(\"Centroides en la iteración {}: {}\".format(i+1, centroides))\n",
        "        centroides = centroides_nuevos\n",
        "        time.sleep(0.5)\n",
        "        return ax\n",
        "\n",
        "    ani = FuncAnimation(fig, update, frames=num_iteraciones, repeat=False)\n",
        "    plt.close()\n",
        "    return ani\n",
        "\n",
        "# Mostramos la animación\n",
        "ani = k_means_animation(juguetes)\n",
        "ani.save('k_means_animation.gif', writer='pillow', fps=2)"
      ],
      "metadata": {
        "colab": {
          "base_uri": "https://localhost:8080/"
        },
        "id": "XOkc_hQIYBGj",
        "outputId": "4b1e5c7c-5540-45bc-8957-c07533adc213"
      },
      "execution_count": 34,
      "outputs": [
        {
          "output_type": "stream",
          "name": "stdout",
          "text": [
            "Centroides en la iteración 1: [[ 1  7]\n",
            " [-2  2]]\n",
            "Centroides en la iteración 1: [[ 0.65051278  5.76783853]\n",
            " [-0.72683994  3.21276746]]\n",
            "Centroides en la iteración 2: [[ 0.75131322  5.89424177]\n",
            " [-0.67143769  3.40642325]]\n",
            "Centroides en la iteración 3: [[ 0.87370537  5.94967345]\n",
            " [-0.69786852  3.56203916]]\n",
            "Centroides en la iteración 4: [[ 1.08044259  6.03798675]\n",
            " [-0.71601688  3.76024198]]\n",
            "Centroides en la iteración 5: [[ 1.08044259  6.03798675]\n",
            " [-0.71601688  3.76024198]]\n",
            "Centroides en la iteración 6: [[ 1.08044259  6.03798675]\n",
            " [-0.71601688  3.76024198]]\n"
          ]
        }
      ]
    }
  ]
}